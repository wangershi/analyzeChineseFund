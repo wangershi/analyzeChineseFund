{
 "metadata": {
  "language_info": {
   "codemirror_mode": {
    "name": "ipython",
    "version": 3
   },
   "file_extension": ".py",
   "mimetype": "text/x-python",
   "name": "python",
   "nbconvert_exporter": "python",
   "pygments_lexer": "ipython3",
   "version": "3.6.8"
  },
  "orig_nbformat": 2,
  "kernelspec": {
   "name": "python3",
   "display_name": "Python 3.6.8 64-bit",
   "metadata": {
    "interpreter": {
     "hash": "865345e02ef5121394f75dd3da8ddc8803f10c4981c7ce1da50d72218eb1a02c"
    }
   }
  }
 },
 "nbformat": 4,
 "nbformat_minor": 2,
 "cells": [
  {
   "cell_type": "code",
   "execution_count": 1,
   "metadata": {},
   "outputs": [
    {
     "output_type": "stream",
     "name": "stderr",
     "text": [
      "[2200:MainThread](2021-02-19 19:17:15,207) INFO - qlib.Initialization - [config.py:276] - default_conf: client.\n",
      "[2200:MainThread](2021-02-19 19:17:17,241) WARNING - qlib.Initialization - [config.py:292] - redis connection failed(host=127.0.0.1 port=6379), cache will not be used!\n",
      "[2200:MainThread](2021-02-19 19:17:18,504) INFO - qlib.Initialization - [__init__.py:46] - qlib successfully initialized based on client settings.\n",
      "[2200:MainThread](2021-02-19 19:17:18,505) INFO - qlib.Initialization - [__init__.py:47] - data_path=E:\\Project\\analyzeChineseFund\\data\\bin\n"
     ]
    }
   ],
   "source": [
    "import qlib\n",
    "qlib.init(provider_uri='data/bin')\n",
    "from qlib.data import D"
   ]
  },
  {
   "cell_type": "code",
   "execution_count": 2,
   "metadata": {},
   "outputs": [
    {
     "output_type": "execute_result",
     "data": {
      "text/plain": [
       "                          $AccumulativeNetAssetValue  \\\n",
       "instrument    datetime                                 \n",
       "000001_202102 2017-11-07                       3.580   \n",
       "              2017-11-08                       3.574   \n",
       "              2017-11-09                       3.583   \n",
       "              2017-11-10                       3.598   \n",
       "              2017-11-13                       3.596   \n",
       "...                                              ...   \n",
       "              2021-02-04                       3.950   \n",
       "              2021-02-05                       3.963   \n",
       "              2021-02-08                       3.981   \n",
       "              2021-02-09                       4.009   \n",
       "              2021-02-10                       4.046   \n",
       "\n",
       "                          Ref($AccumulativeNetAssetValue, 1)  \n",
       "instrument    datetime                                        \n",
       "000001_202102 2017-11-07                               3.580  \n",
       "              2017-11-08                               3.580  \n",
       "              2017-11-09                               3.574  \n",
       "              2017-11-10                               3.583  \n",
       "              2017-11-13                               3.598  \n",
       "...                                                      ...  \n",
       "              2021-02-04                               3.953  \n",
       "              2021-02-05                               3.950  \n",
       "              2021-02-08                               3.963  \n",
       "              2021-02-09                               3.981  \n",
       "              2021-02-10                               4.009  \n",
       "\n",
       "[801 rows x 2 columns]"
      ],
      "text/html": "<div>\n<style scoped>\n    .dataframe tbody tr th:only-of-type {\n        vertical-align: middle;\n    }\n\n    .dataframe tbody tr th {\n        vertical-align: top;\n    }\n\n    .dataframe thead th {\n        text-align: right;\n    }\n</style>\n<table border=\"1\" class=\"dataframe\">\n  <thead>\n    <tr style=\"text-align: right;\">\n      <th></th>\n      <th></th>\n      <th>$AccumulativeNetAssetValue</th>\n      <th>Ref($AccumulativeNetAssetValue, 1)</th>\n    </tr>\n    <tr>\n      <th>instrument</th>\n      <th>datetime</th>\n      <th></th>\n      <th></th>\n    </tr>\n  </thead>\n  <tbody>\n    <tr>\n      <th rowspan=\"11\" valign=\"top\">000001_202102</th>\n      <th>2017-11-07</th>\n      <td>3.580</td>\n      <td>3.580</td>\n    </tr>\n    <tr>\n      <th>2017-11-08</th>\n      <td>3.574</td>\n      <td>3.580</td>\n    </tr>\n    <tr>\n      <th>2017-11-09</th>\n      <td>3.583</td>\n      <td>3.574</td>\n    </tr>\n    <tr>\n      <th>2017-11-10</th>\n      <td>3.598</td>\n      <td>3.583</td>\n    </tr>\n    <tr>\n      <th>2017-11-13</th>\n      <td>3.596</td>\n      <td>3.598</td>\n    </tr>\n    <tr>\n      <th>...</th>\n      <td>...</td>\n      <td>...</td>\n    </tr>\n    <tr>\n      <th>2021-02-04</th>\n      <td>3.950</td>\n      <td>3.953</td>\n    </tr>\n    <tr>\n      <th>2021-02-05</th>\n      <td>3.963</td>\n      <td>3.950</td>\n    </tr>\n    <tr>\n      <th>2021-02-08</th>\n      <td>3.981</td>\n      <td>3.963</td>\n    </tr>\n    <tr>\n      <th>2021-02-09</th>\n      <td>4.009</td>\n      <td>3.981</td>\n    </tr>\n    <tr>\n      <th>2021-02-10</th>\n      <td>4.046</td>\n      <td>4.009</td>\n    </tr>\n  </tbody>\n</table>\n<p>801 rows × 2 columns</p>\n</div>"
     },
     "metadata": {},
     "execution_count": 2
    }
   ],
   "source": [
    "msid = '000001_202102'\n",
    "price = D.features([msid], ['$AccumulativeNetAssetValue', 'Ref($AccumulativeNetAssetValue, 1)'], start_time='2017-11-07')\n",
    "price"
   ]
  },
  {
   "source": [
    "## test ref"
   ],
   "cell_type": "markdown",
   "metadata": {}
  },
  {
   "cell_type": "code",
   "execution_count": 3,
   "metadata": {},
   "outputs": [
    {
     "output_type": "execute_result",
     "data": {
      "text/plain": [
       "                          $AccumulativeNetAssetValue  \\\n",
       "instrument    datetime                                 \n",
       "000137_202102 2017-01-13                       1.279   \n",
       "              2017-01-16                         NaN   \n",
       "              2017-01-17                         NaN   \n",
       "              2017-01-18                         NaN   \n",
       "              2017-01-19                         NaN   \n",
       "              2017-01-20                       1.277   \n",
       "              2017-01-23                         NaN   \n",
       "              2017-01-24                         NaN   \n",
       "              2017-01-25                         NaN   \n",
       "              2017-01-26                       1.278   \n",
       "              2017-02-03                       1.278   \n",
       "              2017-02-06                         NaN   \n",
       "              2017-02-07                         NaN   \n",
       "              2017-02-08                         NaN   \n",
       "              2017-02-09                         NaN   \n",
       "              2017-02-10                       1.275   \n",
       "              2017-02-13                         NaN   \n",
       "              2017-02-14                         NaN   \n",
       "              2017-02-15                         NaN   \n",
       "              2017-02-16                         NaN   \n",
       "              2017-02-17                       1.276   \n",
       "              2017-02-20                         NaN   \n",
       "              2017-02-21                         NaN   \n",
       "              2017-02-22                         NaN   \n",
       "              2017-02-23                         NaN   \n",
       "              2017-02-24                       1.277   \n",
       "              2017-02-27                         NaN   \n",
       "              2017-02-28                         NaN   \n",
       "              2017-03-01                         NaN   \n",
       "              2017-03-02                         NaN   \n",
       "              2017-03-03                       1.277   \n",
       "              2017-03-06                         NaN   \n",
       "              2017-03-07                         NaN   \n",
       "              2017-03-08                         NaN   \n",
       "              2017-03-09                         NaN   \n",
       "              2017-03-10                       1.277   \n",
       "\n",
       "                          Ref($AccumulativeNetAssetValue, 1)  \n",
       "instrument    datetime                                        \n",
       "000137_202102 2017-01-13                                 NaN  \n",
       "              2017-01-16                               1.279  \n",
       "              2017-01-17                                 NaN  \n",
       "              2017-01-18                                 NaN  \n",
       "              2017-01-19                                 NaN  \n",
       "              2017-01-20                                 NaN  \n",
       "              2017-01-23                               1.277  \n",
       "              2017-01-24                                 NaN  \n",
       "              2017-01-25                                 NaN  \n",
       "              2017-01-26                                 NaN  \n",
       "              2017-02-03                               1.278  \n",
       "              2017-02-06                               1.278  \n",
       "              2017-02-07                                 NaN  \n",
       "              2017-02-08                                 NaN  \n",
       "              2017-02-09                                 NaN  \n",
       "              2017-02-10                                 NaN  \n",
       "              2017-02-13                               1.275  \n",
       "              2017-02-14                                 NaN  \n",
       "              2017-02-15                                 NaN  \n",
       "              2017-02-16                                 NaN  \n",
       "              2017-02-17                                 NaN  \n",
       "              2017-02-20                               1.276  \n",
       "              2017-02-21                                 NaN  \n",
       "              2017-02-22                                 NaN  \n",
       "              2017-02-23                                 NaN  \n",
       "              2017-02-24                                 NaN  \n",
       "              2017-02-27                               1.277  \n",
       "              2017-02-28                                 NaN  \n",
       "              2017-03-01                                 NaN  \n",
       "              2017-03-02                                 NaN  \n",
       "              2017-03-03                                 NaN  \n",
       "              2017-03-06                               1.277  \n",
       "              2017-03-07                                 NaN  \n",
       "              2017-03-08                                 NaN  \n",
       "              2017-03-09                                 NaN  \n",
       "              2017-03-10                                 NaN  "
      ],
      "text/html": "<div>\n<style scoped>\n    .dataframe tbody tr th:only-of-type {\n        vertical-align: middle;\n    }\n\n    .dataframe tbody tr th {\n        vertical-align: top;\n    }\n\n    .dataframe thead th {\n        text-align: right;\n    }\n</style>\n<table border=\"1\" class=\"dataframe\">\n  <thead>\n    <tr style=\"text-align: right;\">\n      <th></th>\n      <th></th>\n      <th>$AccumulativeNetAssetValue</th>\n      <th>Ref($AccumulativeNetAssetValue, 1)</th>\n    </tr>\n    <tr>\n      <th>instrument</th>\n      <th>datetime</th>\n      <th></th>\n      <th></th>\n    </tr>\n  </thead>\n  <tbody>\n    <tr>\n      <th rowspan=\"36\" valign=\"top\">000137_202102</th>\n      <th>2017-01-13</th>\n      <td>1.279</td>\n      <td>NaN</td>\n    </tr>\n    <tr>\n      <th>2017-01-16</th>\n      <td>NaN</td>\n      <td>1.279</td>\n    </tr>\n    <tr>\n      <th>2017-01-17</th>\n      <td>NaN</td>\n      <td>NaN</td>\n    </tr>\n    <tr>\n      <th>2017-01-18</th>\n      <td>NaN</td>\n      <td>NaN</td>\n    </tr>\n    <tr>\n      <th>2017-01-19</th>\n      <td>NaN</td>\n      <td>NaN</td>\n    </tr>\n    <tr>\n      <th>2017-01-20</th>\n      <td>1.277</td>\n      <td>NaN</td>\n    </tr>\n    <tr>\n      <th>2017-01-23</th>\n      <td>NaN</td>\n      <td>1.277</td>\n    </tr>\n    <tr>\n      <th>2017-01-24</th>\n      <td>NaN</td>\n      <td>NaN</td>\n    </tr>\n    <tr>\n      <th>2017-01-25</th>\n      <td>NaN</td>\n      <td>NaN</td>\n    </tr>\n    <tr>\n      <th>2017-01-26</th>\n      <td>1.278</td>\n      <td>NaN</td>\n    </tr>\n    <tr>\n      <th>2017-02-03</th>\n      <td>1.278</td>\n      <td>1.278</td>\n    </tr>\n    <tr>\n      <th>2017-02-06</th>\n      <td>NaN</td>\n      <td>1.278</td>\n    </tr>\n    <tr>\n      <th>2017-02-07</th>\n      <td>NaN</td>\n      <td>NaN</td>\n    </tr>\n    <tr>\n      <th>2017-02-08</th>\n      <td>NaN</td>\n      <td>NaN</td>\n    </tr>\n    <tr>\n      <th>2017-02-09</th>\n      <td>NaN</td>\n      <td>NaN</td>\n    </tr>\n    <tr>\n      <th>2017-02-10</th>\n      <td>1.275</td>\n      <td>NaN</td>\n    </tr>\n    <tr>\n      <th>2017-02-13</th>\n      <td>NaN</td>\n      <td>1.275</td>\n    </tr>\n    <tr>\n      <th>2017-02-14</th>\n      <td>NaN</td>\n      <td>NaN</td>\n    </tr>\n    <tr>\n      <th>2017-02-15</th>\n      <td>NaN</td>\n      <td>NaN</td>\n    </tr>\n    <tr>\n      <th>2017-02-16</th>\n      <td>NaN</td>\n      <td>NaN</td>\n    </tr>\n    <tr>\n      <th>2017-02-17</th>\n      <td>1.276</td>\n      <td>NaN</td>\n    </tr>\n    <tr>\n      <th>2017-02-20</th>\n      <td>NaN</td>\n      <td>1.276</td>\n    </tr>\n    <tr>\n      <th>2017-02-21</th>\n      <td>NaN</td>\n      <td>NaN</td>\n    </tr>\n    <tr>\n      <th>2017-02-22</th>\n      <td>NaN</td>\n      <td>NaN</td>\n    </tr>\n    <tr>\n      <th>2017-02-23</th>\n      <td>NaN</td>\n      <td>NaN</td>\n    </tr>\n    <tr>\n      <th>2017-02-24</th>\n      <td>1.277</td>\n      <td>NaN</td>\n    </tr>\n    <tr>\n      <th>2017-02-27</th>\n      <td>NaN</td>\n      <td>1.277</td>\n    </tr>\n    <tr>\n      <th>2017-02-28</th>\n      <td>NaN</td>\n      <td>NaN</td>\n    </tr>\n    <tr>\n      <th>2017-03-01</th>\n      <td>NaN</td>\n      <td>NaN</td>\n    </tr>\n    <tr>\n      <th>2017-03-02</th>\n      <td>NaN</td>\n      <td>NaN</td>\n    </tr>\n    <tr>\n      <th>2017-03-03</th>\n      <td>1.277</td>\n      <td>NaN</td>\n    </tr>\n    <tr>\n      <th>2017-03-06</th>\n      <td>NaN</td>\n      <td>1.277</td>\n    </tr>\n    <tr>\n      <th>2017-03-07</th>\n      <td>NaN</td>\n      <td>NaN</td>\n    </tr>\n    <tr>\n      <th>2017-03-08</th>\n      <td>NaN</td>\n      <td>NaN</td>\n    </tr>\n    <tr>\n      <th>2017-03-09</th>\n      <td>NaN</td>\n      <td>NaN</td>\n    </tr>\n    <tr>\n      <th>2017-03-10</th>\n      <td>1.277</td>\n      <td>NaN</td>\n    </tr>\n  </tbody>\n</table>\n</div>"
     },
     "metadata": {},
     "execution_count": 3
    }
   ],
   "source": [
    "msid = '000137_202102'\n",
    "price = D.features([msid], ['$AccumulativeNetAssetValue', 'Ref($AccumulativeNetAssetValue, 1)'], start_time='2017-01-13', end_time='2017-03-10')\n",
    "price"
   ]
  },
  {
   "source": [
    "## test fund without trading"
   ],
   "cell_type": "markdown",
   "metadata": {}
  },
  {
   "cell_type": "code",
   "execution_count": 4,
   "metadata": {},
   "outputs": [
    {
     "output_type": "execute_result",
     "data": {
      "text/plain": [
       "Empty DataFrame\n",
       "Columns: [$AccumulativeNetAssetValue, Ref($AccumulativeNetAssetValue, 1)]\n",
       "Index: []"
      ],
      "text/html": "<div>\n<style scoped>\n    .dataframe tbody tr th:only-of-type {\n        vertical-align: middle;\n    }\n\n    .dataframe tbody tr th {\n        vertical-align: top;\n    }\n\n    .dataframe thead th {\n        text-align: right;\n    }\n</style>\n<table border=\"1\" class=\"dataframe\">\n  <thead>\n    <tr style=\"text-align: right;\">\n      <th></th>\n      <th>$AccumulativeNetAssetValue</th>\n      <th>Ref($AccumulativeNetAssetValue, 1)</th>\n    </tr>\n  </thead>\n  <tbody>\n  </tbody>\n</table>\n</div>"
     },
     "metadata": {},
     "execution_count": 4
    }
   ],
   "source": [
    "msid = '001046_202102'\n",
    "price = D.features([msid], ['$AccumulativeNetAssetValue', 'Ref($AccumulativeNetAssetValue, 1)'], start_time='2017-01-13', end_time='2017-03-10')\n",
    "price"
   ]
  },
  {
   "cell_type": "code",
   "execution_count": null,
   "metadata": {},
   "outputs": [],
   "source": []
  },
  {
   "cell_type": "code",
   "execution_count": null,
   "metadata": {},
   "outputs": [],
   "source": []
  },
  {
   "cell_type": "code",
   "execution_count": null,
   "metadata": {},
   "outputs": [],
   "source": []
  }
 ]
}